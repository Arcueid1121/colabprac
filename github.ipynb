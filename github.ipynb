{
  "nbformat": 4,
  "nbformat_minor": 0,
  "metadata": {
    "colab": {
      "name": "github.ipynb",
      "version": "0.3.2",
      "provenance": [],
      "private_outputs": true,
      "include_colab_link": true
    },
    "kernelspec": {
      "name": "python3",
      "display_name": "Python 3"
    }
  },
  "cells": [
    {
      "cell_type": "markdown",
      "metadata": {
        "id": "view-in-github",
        "colab_type": "text"
      },
      "source": [
        "<a href=\"https://colab.research.google.com/github/Arcueid1121/colabprac/blob/master/github.ipynb\" target=\"_parent\"><img src=\"https://colab.research.google.com/assets/colab-badge.svg\" alt=\"Open In Colab\"/></a>"
      ]
    },
    {
      "cell_type": "code",
      "metadata": {
        "id": "0KrsgF19q3jB",
        "colab_type": "code",
        "colab": {}
      },
      "source": [
        "import os\n",
        "from google.colab import drive\n",
        "drive.mount('/content/gdrive')\n",
        "\n",
        "root_path = '/content/gdrive/My Drive/github_colabprac/' \n",
        "\n",
        "os.chdir(root_path)\n"
      ],
      "execution_count": 0,
      "outputs": []
    },
    {
      "cell_type": "code",
      "metadata": {
        "id": "V8btVygbnRo0",
        "colab_type": "code",
        "colab": {}
      },
      "source": [
        "!git clone https://github.com/Arcueid1121/colabprac.git"
      ],
      "execution_count": 0,
      "outputs": []
    },
    {
      "cell_type": "code",
      "metadata": {
        "id": "oHUtLywPqJcG",
        "colab_type": "code",
        "colab": {}
      },
      "source": [
        "os.chdir('./colabprac')\n",
        "!pwd\n",
        "!ls\n",
        "\n",
        "!touch abc\n",
        "\n",
        "!ls"
      ],
      "execution_count": 0,
      "outputs": []
    },
    {
      "cell_type": "code",
      "metadata": {
        "id": "01cjy2Gqs4-K",
        "colab_type": "code",
        "colab": {}
      },
      "source": [
        "!git push https://github.com/Arcueid1121/colabprac.git"
      ],
      "execution_count": 0,
      "outputs": []
    }
  ]
}